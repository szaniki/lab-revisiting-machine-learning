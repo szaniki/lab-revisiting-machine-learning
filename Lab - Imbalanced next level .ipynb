{
 "cells": [
  {
   "cell_type": "markdown",
   "id": "8e358790",
   "metadata": {},
   "source": [
    "Your task is to build a machine learning model that will help the company identify people who are more likely to donate and then try to predict the donation amount.\n",
    "\n",
    "- Import the required libraries and modules that you would need.\n",
    "\n",
    "- Read that data into Python and call the dataframe donors.\n",
    "\n",
    "- Check the datatypes of all the columns in the data.\n",
    "\n",
    "- Check for null values in the dataframe. Replace the null values using the methods learned in class.\n",
    "\n",
    "- Split the data into numerical and catagorical. Decide if any columns need their dtype changed.\n",
    "\n",
    "\n",
    "    - Split the data into a training set and a test set.\n",
    "    - Scale the features either by using normalizer or a standard scaler.\n",
    "    - Encode the categorical features using One-Hot Encoding or Ordinal Encoding\n",
    "    - Fit a logistic regression model on the training data.\n",
    "    - Check the accuracy on the test data.\n",
    "    \n",
    "Note: So far we have not balanced the data.\n",
    "\n",
    "Managing imbalance in the dataset\n",
    "\n",
    "- Check for the imbalance.\n",
    "- Use the resampling strategies used in class for upsampling and downsampling to create a balance between the two classes.\n",
    "- Each time fit the model and see how the accuracy of the model has changed."
   ]
  },
  {
   "cell_type": "markdown",
   "id": "59c1e5a1",
   "metadata": {},
   "source": [
    "SOLICITATION LIMIT CODE IN HOUSE \n",
    "      \n",
    "=can be mailed (Default)    \n",
    "00=Do Not Solicit    \n",
    "01=one solicitation per year    \n",
    "02=two solicitations per year     \n",
    "03=three solicitations per year    \n",
    "04=four solicitations per year    \n",
    "05=five solicitations per year    \n",
    "06=six solicitations per year    \n",
    "12=twelve solicitations per year"
   ]
  },
  {
   "cell_type": "code",
   "execution_count": 1,
   "id": "61747ae1",
   "metadata": {},
   "outputs": [],
   "source": [
    "import pandas as pd\n",
    "import numpy as np\n",
    "import statsmodels.api as sm"
   ]
  },
  {
   "cell_type": "code",
   "execution_count": 2,
   "id": "8198b688",
   "metadata": {},
   "outputs": [
    {
     "data": {
      "text/plain": [
       "(95412, 322)"
      ]
     },
     "execution_count": 2,
     "metadata": {},
     "output_type": "execute_result"
    }
   ],
   "source": [
    "numerical = pd.read_csv('/Users/szabonikolett/Desktop/Ironhack-Labs/numerical7_02.csv')\n",
    "numerical = numerical.drop(['Unnamed: 0'], axis=1) # to get rid of the unnamed useless column\n",
    "numerical\n",
    "\n",
    "numerical.shape"
   ]
  },
  {
   "cell_type": "code",
   "execution_count": 3,
   "id": "9fecfb7e",
   "metadata": {},
   "outputs": [
    {
     "data": {
      "text/plain": [
       "(95412, 12)"
      ]
     },
     "execution_count": 3,
     "metadata": {},
     "output_type": "execute_result"
    }
   ],
   "source": [
    "categorical = pd.read_csv('/Users/szabonikolett/Desktop/Ironhack-Labs/categorical7_02.csv')\n",
    "categorical = categorical.drop(['Unnamed: 0'],axis=1)\n",
    "categorical\n",
    "\n",
    "categorical.shape"
   ]
  },
  {
   "cell_type": "code",
   "execution_count": 4,
   "id": "399d41b2",
   "metadata": {},
   "outputs": [
    {
     "data": {
      "text/plain": [
       "(95412, 2)"
      ]
     },
     "execution_count": 4,
     "metadata": {},
     "output_type": "execute_result"
    }
   ],
   "source": [
    "target = pd.read_csv('/Users/szabonikolett/Desktop/Ironhack-Labs/target7_02.csv')\n",
    "target = target.drop(['Unnamed: 0'],axis=1)\n",
    "target\n",
    "\n",
    "target.shape"
   ]
  },
  {
   "cell_type": "code",
   "execution_count": 5,
   "id": "ce79f7d9",
   "metadata": {},
   "outputs": [
    {
     "data": {
      "text/plain": [
       "STATE           0\n",
       "CLUSTER         0\n",
       "HOMEOWNR        0\n",
       "GENDER          0\n",
       "DATASRCE        0\n",
       "SOLIH       89212\n",
       "VETERANS    84986\n",
       "RFA_2R          0\n",
       "RFA_2A          0\n",
       "GEOCODE2        0\n",
       "DOMAIN_A        0\n",
       "DOMAIN_B        0\n",
       "dtype: int64"
      ]
     },
     "execution_count": 5,
     "metadata": {},
     "output_type": "execute_result"
    }
   ],
   "source": [
    "categorical.isna().sum()"
   ]
  },
  {
   "cell_type": "code",
   "execution_count": 6,
   "id": "1e11719c",
   "metadata": {},
   "outputs": [
    {
     "data": {
      "text/plain": [
       "12.0    5693\n",
       "0.0      296\n",
       "1.0       94\n",
       "2.0       75\n",
       "3.0       19\n",
       "4.0       16\n",
       "6.0        7\n",
       "Name: SOLIH, dtype: int64"
      ]
     },
     "execution_count": 6,
     "metadata": {},
     "output_type": "execute_result"
    }
   ],
   "source": [
    "categorical['SOLIH'].value_counts()"
   ]
  },
  {
   "cell_type": "code",
   "execution_count": 7,
   "id": "26c76306",
   "metadata": {},
   "outputs": [],
   "source": [
    "categorical['SOLIH'] = categorical['SOLIH'].fillna(20) # if I put '20' it becomes a float, not an integer and cause problem with the encoder"
   ]
  },
  {
   "cell_type": "code",
   "execution_count": 8,
   "id": "a56459cd",
   "metadata": {},
   "outputs": [
    {
     "data": {
      "text/plain": [
       "Y    10426\n",
       "Name: VETERANS, dtype: int64"
      ]
     },
     "execution_count": 8,
     "metadata": {},
     "output_type": "execute_result"
    }
   ],
   "source": [
    "categorical['VETERANS'].value_counts()"
   ]
  },
  {
   "cell_type": "code",
   "execution_count": 9,
   "id": "356daa3e",
   "metadata": {},
   "outputs": [],
   "source": [
    "categorical['VETERANS'] = categorical['VETERANS'].fillna('N')"
   ]
  },
  {
   "cell_type": "code",
   "execution_count": 10,
   "id": "17f7311e",
   "metadata": {},
   "outputs": [
    {
     "data": {
      "text/plain": [
       "STATE       0\n",
       "CLUSTER     0\n",
       "HOMEOWNR    0\n",
       "GENDER      0\n",
       "DATASRCE    0\n",
       "SOLIH       0\n",
       "VETERANS    0\n",
       "RFA_2R      0\n",
       "RFA_2A      0\n",
       "GEOCODE2    0\n",
       "DOMAIN_A    0\n",
       "DOMAIN_B    0\n",
       "dtype: int64"
      ]
     },
     "execution_count": 10,
     "metadata": {},
     "output_type": "execute_result"
    }
   ],
   "source": [
    "categorical.isna().sum()"
   ]
  },
  {
   "cell_type": "code",
   "execution_count": 11,
   "id": "7230f7bc",
   "metadata": {},
   "outputs": [
    {
     "data": {
      "text/plain": [
       "TARGET_B      int64\n",
       "TARGET_D    float64\n",
       "dtype: object"
      ]
     },
     "execution_count": 11,
     "metadata": {},
     "output_type": "execute_result"
    }
   ],
   "source": [
    "target.dtypes"
   ]
  },
  {
   "cell_type": "code",
   "execution_count": 12,
   "id": "13eb1958",
   "metadata": {},
   "outputs": [
    {
     "data": {
      "text/plain": [
       "61.611649    23665\n",
       "50.000000     1930\n",
       "76.000000     1885\n",
       "72.000000     1813\n",
       "68.000000     1809\n",
       "             ...  \n",
       "9.000000         1\n",
       "6.000000         1\n",
       "10.000000        1\n",
       "8.000000         1\n",
       "15.000000        1\n",
       "Name: AGE, Length: 97, dtype: int64"
      ]
     },
     "execution_count": 12,
     "metadata": {},
     "output_type": "execute_result"
    }
   ],
   "source": [
    "numerical['AGE'].value_counts()#(dropna=False)"
   ]
  },
  {
   "cell_type": "code",
   "execution_count": 13,
   "id": "d9056ab9",
   "metadata": {},
   "outputs": [],
   "source": [
    "# might not be the best choice tho\n",
    "numerical['AGE'] = numerical['AGE'].fillna(61.61) # replacing the only nan with the mode"
   ]
  },
  {
   "cell_type": "code",
   "execution_count": 14,
   "id": "6218563d",
   "metadata": {},
   "outputs": [],
   "source": [
    "# use target b and drop target d"
   ]
  },
  {
   "cell_type": "markdown",
   "id": "c402988a",
   "metadata": {},
   "source": [
    "### Split the data into a training set and a test set."
   ]
  },
  {
   "cell_type": "code",
   "execution_count": 15,
   "id": "672dad92",
   "metadata": {},
   "outputs": [],
   "source": [
    "from sklearn.model_selection import train_test_split"
   ]
  },
  {
   "cell_type": "code",
   "execution_count": 16,
   "id": "02580cb7",
   "metadata": {},
   "outputs": [],
   "source": [
    "X = pd.concat([numerical,categorical],axis=1)\n",
    "y = target.drop(['TARGET_D'],axis=1)\n",
    "# y = target['TARGET_B']"
   ]
  },
  {
   "cell_type": "code",
   "execution_count": 17,
   "id": "57de2d3d",
   "metadata": {},
   "outputs": [],
   "source": [
    "X_train, X_test, y_train, y_test = train_test_split(X, y, test_size = 0.25, random_state = 1)"
   ]
  },
  {
   "cell_type": "code",
   "execution_count": 18,
   "id": "08008b31",
   "metadata": {},
   "outputs": [],
   "source": [
    "X_train_num = X_train.select_dtypes(np.number)\n",
    "X_train_cat = X_train.select_dtypes(object)\n",
    "\n",
    "X_test_num =  X_test.select_dtypes(np.number)\n",
    "X_test_cat = X_test.select_dtypes(object)"
   ]
  },
  {
   "cell_type": "code",
   "execution_count": null,
   "id": "3ee8f8a2",
   "metadata": {},
   "outputs": [],
   "source": []
  },
  {
   "cell_type": "markdown",
   "id": "9723fd66",
   "metadata": {},
   "source": [
    "### Scale the features either by using normalizer or a standard scaler."
   ]
  },
  {
   "cell_type": "code",
   "execution_count": 19,
   "id": "4597cd82",
   "metadata": {},
   "outputs": [],
   "source": [
    "#from sklearn.preprocessing import MinMaxScaler\n",
    "\n",
    "#transformer = MinMaxScaler().fit(X_train_num) \n",
    "#X_train_num = transformer.transform(X_train_num) # saving result in variable, I only train here\n",
    "#X_train_num = pd.DataFrame(X_train_num)"
   ]
  },
  {
   "cell_type": "code",
   "execution_count": 20,
   "id": "360a35c9",
   "metadata": {},
   "outputs": [],
   "source": [
    "#from sklearn.preprocessing import OneHotEncoder # run only one time\n",
    "\n",
    "#encoder = OneHotEncoder(drop='first', handle_unknown = 'ignore').fit(X_train_cat) # or handle_unknown=‘error’\n",
    "#X_train_cat = encoder.transform(X_train_cat).toarray() # TRANSFORMING into an array; 2 dimensional array\n",
    "\n",
    "#X_test_cat = encoder.transform(X_train_cat).toarray()"
   ]
  },
  {
   "cell_type": "code",
   "execution_count": null,
   "id": "ce472e5b",
   "metadata": {},
   "outputs": [],
   "source": []
  },
  {
   "cell_type": "code",
   "execution_count": 21,
   "id": "3e0e410b",
   "metadata": {},
   "outputs": [],
   "source": [
    "#X_train_scaled = np.concatenate((X_train_num, X_train_cat),axis=1)\n",
    "#X_train_scaled = pd.DataFrame(X_train_scaled)\n",
    "#X_train_scaled.head()"
   ]
  },
  {
   "cell_type": "code",
   "execution_count": 22,
   "id": "7364937f",
   "metadata": {},
   "outputs": [],
   "source": [
    "#X_test_scaled = np.concat((X_test_num, X_test_cat),axis=1)\n",
    "#X_test_scaled = pd.DataFrame(X_test_scaled)\n",
    "#X_test_scaled.head()\n"
   ]
  },
  {
   "cell_type": "code",
   "execution_count": 23,
   "id": "ec6882be",
   "metadata": {},
   "outputs": [],
   "source": [
    "from sklearn.preprocessing import MinMaxScaler\n",
    "\n",
    "transformer = MinMaxScaler().fit(X_train_num)\n",
    "cols=transformer.get_feature_names_out(input_features=X_train_num.columns)\n",
    "\n",
    "X_train_numscale = transformer.transform(X_train_num)\n",
    "X_test_numscale = transformer.transform(X_test_num)\n",
    "\n",
    "X_train_num = pd.DataFrame(X_train_numscale, columns=X_train_num.columns)\n",
    "X_test_num = pd.DataFrame(X_test_numscale, columns=X_test_num.columns)"
   ]
  },
  {
   "cell_type": "code",
   "execution_count": 24,
   "id": "33571641",
   "metadata": {},
   "outputs": [],
   "source": [
    "from sklearn.preprocessing import OneHotEncoder\n",
    "\n",
    "encoder = OneHotEncoder(handle_unknown='error', drop='first').fit(X_train_cat)\n",
    "cols=encoder.get_feature_names_out(input_features=X_train_cat.columns)\n",
    "\n",
    "X_train_cat = encoder.transform(X_train_cat).toarray()\n",
    "X_test_cat = encoder.transform(X_test_cat).toarray()\n",
    "\n",
    "\n",
    "X_train_cat = pd.DataFrame(X_train_cat,columns=cols)\n",
    "X_test_cat = pd.DataFrame(X_test_cat,columns=cols)"
   ]
  },
  {
   "cell_type": "code",
   "execution_count": 25,
   "id": "7b5a2f6e",
   "metadata": {},
   "outputs": [],
   "source": [
    "X_train_scaled = pd.concat([X_train_num, X_train_cat],axis=1)\n",
    "X_test_scaled = pd.concat([X_test_num, X_test_cat],axis=1)"
   ]
  },
  {
   "cell_type": "markdown",
   "id": "ad342291",
   "metadata": {},
   "source": [
    "###  Fit a logistic regression model on the training data."
   ]
  },
  {
   "cell_type": "code",
   "execution_count": 29,
   "id": "6932dfaf",
   "metadata": {},
   "outputs": [
    {
     "name": "stderr",
     "output_type": "stream",
     "text": [
      "/Users/szabonikolett/opt/anaconda3/lib/python3.9/site-packages/sklearn/utils/validation.py:1107: DataConversionWarning: A column-vector y was passed when a 1d array was expected. Please change the shape of y to (n_samples, ), for example using ravel().\n",
      "  y = column_or_1d(y, warn=True)\n"
     ]
    },
    {
     "name": "stdout",
     "output_type": "stream",
     "text": [
      "CPU times: user 54.2 s, sys: 945 ms, total: 55.2 s\n",
      "Wall time: 57.7 s\n"
     ]
    },
    {
     "name": "stderr",
     "output_type": "stream",
     "text": [
      "/Users/szabonikolett/opt/anaconda3/lib/python3.9/site-packages/sklearn/linear_model/_sag.py:350: ConvergenceWarning: The max_iter was reached which means the coef_ did not converge\n",
      "  warnings.warn(\n"
     ]
    }
   ],
   "source": [
    "%%time\n",
    "from sklearn.linear_model import LogisticRegression\n",
    "classification = LogisticRegression(random_state=0, solver='saga',\n",
    "                  multi_class='multinomial').fit(X_train_scaled, y_train)"
   ]
  },
  {
   "cell_type": "markdown",
   "id": "8cf67fe8",
   "metadata": {},
   "source": [
    "### Check the accuracy on the test data."
   ]
  },
  {
   "cell_type": "code",
   "execution_count": 30,
   "id": "adfdb5bc",
   "metadata": {},
   "outputs": [
    {
     "name": "stdout",
     "output_type": "stream",
     "text": [
      "CPU times: user 138 ms, sys: 76.7 ms, total: 214 ms\n",
      "Wall time: 232 ms\n"
     ]
    },
    {
     "data": {
      "text/plain": [
       "0.9496499392110007"
      ]
     },
     "execution_count": 30,
     "metadata": {},
     "output_type": "execute_result"
    }
   ],
   "source": [
    "%%time\n",
    "predictions = classification.predict(X_test_scaled)\n",
    "classification.score(X_test_scaled, y_test)"
   ]
  },
  {
   "cell_type": "code",
   "execution_count": null,
   "id": "bba729a4",
   "metadata": {},
   "outputs": [],
   "source": [
    "# classification score 94%, pretty good for the test set"
   ]
  },
  {
   "cell_type": "code",
   "execution_count": null,
   "id": "f995cfad",
   "metadata": {},
   "outputs": [],
   "source": [
    "### dealing with imbalanced data"
   ]
  },
  {
   "cell_type": "code",
   "execution_count": null,
   "id": "9e2dc49b",
   "metadata": {},
   "outputs": [],
   "source": []
  },
  {
   "cell_type": "code",
   "execution_count": null,
   "id": "294ba474",
   "metadata": {},
   "outputs": [],
   "source": []
  },
  {
   "cell_type": "code",
   "execution_count": null,
   "id": "6702eeea",
   "metadata": {},
   "outputs": [],
   "source": [
    "from sklearn.utils import resample\n",
    "\n",
    "\n",
    "category_0_undersampled = resample(category_0, \n",
    "                                   replace=False, \n",
    "                                   n_samples = len(category_1))"
   ]
  },
  {
   "cell_type": "code",
   "execution_count": null,
   "id": "faf7b84f",
   "metadata": {},
   "outputs": [],
   "source": []
  },
  {
   "cell_type": "code",
   "execution_count": null,
   "id": "a40edb24",
   "metadata": {},
   "outputs": [],
   "source": []
  },
  {
   "cell_type": "code",
   "execution_count": null,
   "id": "e57f15d1",
   "metadata": {},
   "outputs": [],
   "source": []
  },
  {
   "cell_type": "code",
   "execution_count": 28,
   "id": "f0f8ef47",
   "metadata": {},
   "outputs": [],
   "source": [
    "#categorical['STATE'].value_counts()"
   ]
  },
  {
   "cell_type": "code",
   "execution_count": null,
   "id": "8232a68e",
   "metadata": {},
   "outputs": [],
   "source": []
  },
  {
   "cell_type": "code",
   "execution_count": 31,
   "id": "cc83333e",
   "metadata": {},
   "outputs": [],
   "source": [
    "from sklearn.tree import DecisionTreeClassifier"
   ]
  },
  {
   "cell_type": "code",
   "execution_count": null,
   "id": "aa3ce970",
   "metadata": {},
   "outputs": [],
   "source": [
    "%%time\n",
    "max_depth = range(1,30)\n",
    "test = []\n",
    "train = []\n",
    "\n",
    "for depth in max_depth:\n",
    "    model = DecisionTreeClassifier(max_depth=depth, random_state=0)\n",
    "    model.fit(X_train_scaled, y_train)\n",
    "    test.append(model.score(X_test_scaled,y_test))\n",
    "    train.append(model.score(X_train_scaled,y_train))"
   ]
  },
  {
   "cell_type": "code",
   "execution_count": null,
   "id": "4e77bac0",
   "metadata": {},
   "outputs": [],
   "source": [
    "%%time\n",
    "import matplotlib.pyplot as plt\n",
    "%matplotlib inline\n",
    "plt.plot( train, label=\"training accuracy\")\n",
    "plt.plot( test, label=\"test accuracy\")\n",
    "plt.ylabel(\"Accuracy\") # represents percentage \n",
    "plt.xlabel(\"n_depth-1\")\n",
    "plt.legend()"
   ]
  },
  {
   "cell_type": "code",
   "execution_count": null,
   "id": "4c356a5a",
   "metadata": {},
   "outputs": [],
   "source": [
    "model.feature_importances_"
   ]
  },
  {
   "cell_type": "code",
   "execution_count": null,
   "id": "007becc9",
   "metadata": {},
   "outputs": [],
   "source": [
    "%%time\n",
    "def plot_feature_importances_cancer(model):\n",
    "    n_features = cancer.data.shape[1]\n",
    "    plt.barh(range(n_features), model.feature_importances_, align='center')\n",
    "    plt.yticks(np.arange(n_features), cancer.feature_names)\n",
    "    plt.xlabel(\"Feature importance\")\n",
    "    plt.ylabel(\"Feature\")\n",
    "\n",
    "plot_feature_importances_cancer(model)"
   ]
  },
  {
   "cell_type": "code",
   "execution_count": null,
   "id": "ebd383cb",
   "metadata": {},
   "outputs": [],
   "source": []
  },
  {
   "cell_type": "code",
   "execution_count": null,
   "id": "2bbb8540",
   "metadata": {},
   "outputs": [],
   "source": []
  },
  {
   "cell_type": "code",
   "execution_count": null,
   "id": "3ff49aad",
   "metadata": {},
   "outputs": [],
   "source": []
  },
  {
   "cell_type": "markdown",
   "id": "1d9e0a25",
   "metadata": {},
   "source": [
    "### Experimenting with Decision Tree Regressor"
   ]
  },
  {
   "cell_type": "code",
   "execution_count": null,
   "id": "7dffdff2",
   "metadata": {},
   "outputs": [],
   "source": [
    "from sklearn.tree import DecisionTreeRegressor"
   ]
  },
  {
   "cell_type": "code",
   "execution_count": null,
   "id": "5f94ec3c",
   "metadata": {},
   "outputs": [],
   "source": [
    "%%time\n",
    "regr = DecisionTreeRegressor(max_depth=4)\n",
    "\n",
    "model = regr.fit(X_train_scaled, y_train)"
   ]
  },
  {
   "cell_type": "code",
   "execution_count": null,
   "id": "e06feaa0",
   "metadata": {},
   "outputs": [],
   "source": [
    "print(\"test data R2 score was: \",regr.score(X_test, y_test)) # R2 score\n",
    "print(\"train data R2 score was: \",regr.score(X_train, y_train))"
   ]
  },
  {
   "cell_type": "code",
   "execution_count": null,
   "id": "fc87d306",
   "metadata": {},
   "outputs": [],
   "source": [
    "list(features.columns)"
   ]
  },
  {
   "cell_type": "code",
   "execution_count": null,
   "id": "322135ae",
   "metadata": {},
   "outputs": [],
   "source": [
    "from sklearn.tree import export_text\n",
    "\n",
    "# regr was built in the cell DecisionTreeeRegressor\n",
    "\n",
    "r = export_text(regr, feature_names=list(features.columns))\n",
    "print(r)"
   ]
  },
  {
   "cell_type": "code",
   "execution_count": null,
   "id": "6ccdcb66",
   "metadata": {},
   "outputs": [],
   "source": []
  },
  {
   "cell_type": "code",
   "execution_count": null,
   "id": "4d3fe796",
   "metadata": {},
   "outputs": [],
   "source": []
  },
  {
   "cell_type": "code",
   "execution_count": null,
   "id": "f804c55c",
   "metadata": {},
   "outputs": [],
   "source": []
  },
  {
   "cell_type": "code",
   "execution_count": null,
   "id": "4bb1528b",
   "metadata": {},
   "outputs": [],
   "source": []
  },
  {
   "cell_type": "code",
   "execution_count": null,
   "id": "956d94e1",
   "metadata": {},
   "outputs": [],
   "source": []
  },
  {
   "cell_type": "code",
   "execution_count": null,
   "id": "13e1a9a1",
   "metadata": {},
   "outputs": [],
   "source": []
  },
  {
   "cell_type": "code",
   "execution_count": null,
   "id": "a0b239cc",
   "metadata": {},
   "outputs": [],
   "source": []
  },
  {
   "cell_type": "code",
   "execution_count": null,
   "id": "7f32370f",
   "metadata": {},
   "outputs": [],
   "source": []
  }
 ],
 "metadata": {
  "kernelspec": {
   "display_name": "Python 3 (ipykernel)",
   "language": "python",
   "name": "python3"
  },
  "language_info": {
   "codemirror_mode": {
    "name": "ipython",
    "version": 3
   },
   "file_extension": ".py",
   "mimetype": "text/x-python",
   "name": "python",
   "nbconvert_exporter": "python",
   "pygments_lexer": "ipython3",
   "version": "3.9.12"
  }
 },
 "nbformat": 4,
 "nbformat_minor": 5
}
